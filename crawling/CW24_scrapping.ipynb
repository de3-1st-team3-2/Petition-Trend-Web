{
 "cells": [
  {
   "cell_type": "code",
   "execution_count": 1,
   "id": "63544d68",
   "metadata": {},
   "outputs": [],
   "source": [
    "from bs4 import BeautifulSoup as bs\n",
    "import requests\n",
    "import time\n",
    "import re\n",
    "from datetime import datetime,timedelta\n",
    "\n",
    "from selenium import webdriver\n",
    "from selenium.webdriver.chrome.service import Service\n",
    "from selenium.webdriver.common.by import By\n",
    "from webdriver_manager.chrome import ChromeDriverManager\n",
    "from selenium.webdriver.support.ui import WebDriverWait\n",
    "from selenium.webdriver.support import expected_conditions as EC\n",
    "\n"
   ]
  },
  {
   "cell_type": "code",
   "execution_count": 2,
   "id": "ffef9a58",
   "metadata": {},
   "outputs": [],
   "source": [
    "driver = webdriver.Chrome(service=Service(ChromeDriverManager().install()))"
   ]
  },
  {
   "cell_type": "markdown",
   "id": "615e95a0",
   "metadata": {},
   "source": [
    "일반청원은 공개되지 않으며  \n",
    "공개청원의 경우  \n",
    "접수>공개여부 결정(15일)>국민의견 수렴(30일)>조사,심의>결과통지(90일내)  \n",
    "의 과정을 거침"
   ]
  },
  {
   "cell_type": "markdown",
   "id": "8168e16d",
   "metadata": {},
   "source": [
    "title:청원 제목  \n",
    "detail:세부내용  \n",
    "date:올라온 날짜(의견수렴기간 -15일)\n",
    "period:의견 수렴 기간    *필요한가?* \n",
    "state:접수/의견수렴중/처리중/종결 네가지로 나뉘며 진행중인 상태의 태그에 class=\"on\"  \n",
    "\n",
    "views:조회수  \n",
    "comments:댓글수, + 일반적으로 의견수렴을 댓글로 하는듯 *댓글 갯수만 가져왔는데, 댓글내용도 필요?*  \n",
    "\n",
    "result:처리 내용\n",
    "agency:처리 기관 *추가됨*  \n",
    "agency_detail : 담당 기관 세부 부서\n",
    "post_url: 파라미터를 넣은 게시글 주소 *추가됨*   "
   ]
  },
  {
   "cell_type": "code",
   "execution_count": 2,
   "id": "90356a73",
   "metadata": {},
   "outputs": [],
   "source": [
    "petition_dict={\"title\":[],\n",
    "               \"detail\":[],\n",
    "               \"date\":[],\n",
    "               \"period\":[],\n",
    "               \"state\":[],\n",
    "               \"views\":[],\n",
    "               \"comment_num\":[],\n",
    "               \"result\":[],\n",
    "               \"agency\":[],\n",
    "               \"agency_detail\":[],\n",
    "               \"post_url\":[]\n",
    "              }"
   ]
  },
  {
   "cell_type": "markdown",
   "id": "9e5cc6ce",
   "metadata": {},
   "source": [
    "# 게시글 리스트에서 확인가능(request)"
   ]
  },
  {
   "cell_type": "code",
   "execution_count": 21,
   "id": "46f3aca2",
   "metadata": {},
   "outputs": [],
   "source": [
    "res=requests.get(\"https://cheongwon.go.kr/portal/petition/open/view?pageIndex=1&searchType=1&searchKeyword=&type=list\")\n",
    "soup=bs(res.text,\"html.parser\")"
   ]
  },
  {
   "cell_type": "markdown",
   "id": "0efb9895",
   "metadata": {},
   "source": [
    "## title"
   ]
  },
  {
   "cell_type": "code",
   "execution_count": 22,
   "id": "52fbe83a",
   "metadata": {
    "scrolled": true
   },
   "outputs": [
    {
     "name": "stdout",
     "output_type": "stream",
     "text": [
      "['내일배움카드 제도 개선', '가족이 원수다.~~~~^^', '온수 급탕비 & 난반비 인하 시켜주세요!', '대통령에게 바란다 - 한국에 필요한 3가지', '산업스파이 처벌강화를 요구합니다', '유아교육법 개정', '폐결핵', '산재보험의 잘못된 법으로 인하여 국민정서를 해치고 있다', 'SH청년안심주택 유자녀 주차 나이 제한(만 6세미만) 조항 이의제기합니다.']\n"
     ]
    }
   ],
   "source": [
    "title_tags=soup.find_all(\"span\",\"subject\")\n",
    "for title in title_tags:\n",
    "    petition_dict[\"title\"].append( title.get(\"title\"))\n",
    "    \n",
    "print(petition_dict[\"title\"])\n",
    "    "
   ]
  },
  {
   "cell_type": "markdown",
   "id": "bb3d228b",
   "metadata": {},
   "source": [
    "## period"
   ]
  },
  {
   "cell_type": "code",
   "execution_count": 58,
   "id": "32971127",
   "metadata": {},
   "outputs": [
    {
     "name": "stdout",
     "output_type": "stream",
     "text": [
      "[[datetime.datetime(2024, 4, 16, 0, 0), datetime.datetime(2024, 5, 16, 0, 0)], [datetime.datetime(2024, 4, 16, 0, 0), datetime.datetime(2024, 5, 16, 0, 0)], [datetime.datetime(2024, 4, 16, 0, 0), datetime.datetime(2024, 5, 16, 0, 0)], [datetime.datetime(2024, 4, 16, 0, 0), datetime.datetime(2024, 5, 16, 0, 0)], [datetime.datetime(2024, 4, 16, 0, 0), datetime.datetime(2024, 5, 16, 0, 0)], [datetime.datetime(2024, 4, 15, 0, 0), datetime.datetime(2024, 5, 14, 0, 0)], [datetime.datetime(2024, 4, 13, 0, 0), datetime.datetime(2024, 5, 13, 0, 0)], [datetime.datetime(2024, 4, 13, 0, 0), datetime.datetime(2024, 5, 13, 0, 0)], [datetime.datetime(2024, 4, 13, 0, 0), datetime.datetime(2024, 5, 13, 0, 0)]]\n"
     ]
    }
   ],
   "source": [
    "period_tags=soup.find_all(\"span\",\"date\")\n",
    "for period in period_tags:\n",
    "    #날짜만 구함\n",
    "    period=period.get_text()\n",
    "    period=period.split(':')[1].strip()\n",
    "\n",
    "    #날짜형식으로 바꾸기\n",
    "    period = period.split('~')\n",
    "    period[0]=datetime.strptime(period[0],'%Y.%m.%d')\n",
    "    period[1]=datetime.strptime(period[1],'%Y.%m.%d')\n",
    "    \n",
    "    petition_dict[\"period\"].append(period)\n",
    "    \n",
    "print(petition_dict[\"period\"])\n",
    "    "
   ]
  },
  {
   "cell_type": "markdown",
   "id": "275c14aa",
   "metadata": {},
   "source": [
    "## date"
   ]
  },
  {
   "cell_type": "code",
   "execution_count": 61,
   "id": "cc4a5713",
   "metadata": {},
   "outputs": [
    {
     "name": "stdout",
     "output_type": "stream",
     "text": [
      "[datetime.datetime(2024, 4, 16, 0, 0), datetime.datetime(2024, 5, 16, 0, 0)]\n",
      "[datetime.datetime(2024, 4, 16, 0, 0), datetime.datetime(2024, 5, 16, 0, 0)]\n",
      "[datetime.datetime(2024, 4, 16, 0, 0), datetime.datetime(2024, 5, 16, 0, 0)]\n",
      "[datetime.datetime(2024, 4, 16, 0, 0), datetime.datetime(2024, 5, 16, 0, 0)]\n",
      "[datetime.datetime(2024, 4, 16, 0, 0), datetime.datetime(2024, 5, 16, 0, 0)]\n",
      "[datetime.datetime(2024, 4, 15, 0, 0), datetime.datetime(2024, 5, 14, 0, 0)]\n",
      "[datetime.datetime(2024, 4, 13, 0, 0), datetime.datetime(2024, 5, 13, 0, 0)]\n",
      "[datetime.datetime(2024, 4, 13, 0, 0), datetime.datetime(2024, 5, 13, 0, 0)]\n",
      "[datetime.datetime(2024, 4, 13, 0, 0), datetime.datetime(2024, 5, 13, 0, 0)]\n",
      "[datetime.datetime(2024, 4, 1, 0, 0), datetime.datetime(2024, 4, 1, 0, 0), datetime.datetime(2024, 4, 1, 0, 0), datetime.datetime(2024, 4, 1, 0, 0), datetime.datetime(2024, 4, 1, 0, 0), datetime.datetime(2024, 3, 31, 0, 0), datetime.datetime(2024, 3, 29, 0, 0), datetime.datetime(2024, 3, 29, 0, 0), datetime.datetime(2024, 3, 29, 0, 0), datetime.datetime(2024, 4, 1, 0, 0), datetime.datetime(2024, 4, 1, 0, 0), datetime.datetime(2024, 4, 1, 0, 0), datetime.datetime(2024, 4, 1, 0, 0), datetime.datetime(2024, 4, 1, 0, 0), datetime.datetime(2024, 3, 31, 0, 0), datetime.datetime(2024, 3, 29, 0, 0), datetime.datetime(2024, 3, 29, 0, 0), datetime.datetime(2024, 3, 29, 0, 0), datetime.datetime(2024, 4, 1, 0, 0), datetime.datetime(2024, 4, 1, 0, 0), datetime.datetime(2024, 4, 1, 0, 0), datetime.datetime(2024, 4, 1, 0, 0), datetime.datetime(2024, 4, 1, 0, 0), datetime.datetime(2024, 3, 31, 0, 0), datetime.datetime(2024, 3, 29, 0, 0), datetime.datetime(2024, 3, 29, 0, 0), datetime.datetime(2024, 3, 29, 0, 0)]\n"
     ]
    }
   ],
   "source": [
    "for date in petition_dict[\"period\"]:\n",
    "    date=date[0]-timedelta(days=15)\n",
    "    petition_dict[\"date\"].append(date)\n",
    "    \n",
    "print(petition_dict[\"date\"])"
   ]
  },
  {
   "cell_type": "markdown",
   "id": "4b9c58a8",
   "metadata": {},
   "source": [
    "## url"
   ]
  },
  {
   "cell_type": "code",
   "execution_count": 50,
   "id": "027d16de",
   "metadata": {},
   "outputs": [
    {
     "name": "stdout",
     "output_type": "stream",
     "text": [
      "PRI80995be2cefd4f3fa4b9fb4b6f1204c8\n",
      "PRI1883cf28daec49489233a34f6e169fcc\n",
      "PRI93490eaeb1f542c7a25e7053ebff5e23\n",
      "PRIa69b2e5c84fc4bb7b48d0a3f46889b50\n",
      "PRI7fd9b46c718042df900fd074815f07e9\n",
      "PRIbacec5b69a41436e892ccc91de3dec8b\n",
      "PRIe5987e1356dd489bb1bc50b61db9d041\n",
      "PRIa237df283734430dbe8e0e5d77efd65d\n",
      "PRI97357c6b00284def95c8c43eaa2ebe24\n"
     ]
    }
   ],
   "source": [
    "post_id=soup.find_all(\"a\", onclick=True)\n",
    "for post in post_id :\n",
    "    if post.get(\"style\") == \"cursor: pointer;\":\n",
    "        post=post.get(\"onclick\").split('\\'')[1]\n",
    "        print(post)\n"
   ]
  },
  {
   "cell_type": "markdown",
   "id": "3f154072",
   "metadata": {},
   "source": [
    "# 게시글에서 확인가능(requests+selenium(view))"
   ]
  },
  {
   "cell_type": "code",
   "execution_count": 64,
   "id": "2eb97771",
   "metadata": {},
   "outputs": [],
   "source": [
    "res2=requests.get(\"https://cheongwon.go.kr/portal/petition/open/viewdetail/PRIea74755c07fc4a0fbb178fdedb23cf6b\")\n",
    "soup2=bs(res2.text,\"html.parser\")"
   ]
  },
  {
   "cell_type": "code",
   "execution_count": null,
   "id": "16ed37f4",
   "metadata": {},
   "outputs": [],
   "source": [
    "driver = webdriver.Chrome(service=Service(ChromeDriverManager().install()))\n",
    "driver.get(\"https://cheongwon.go.kr/portal/petition/open/viewdetail/PRI89cf07387ec84a0fb943a01651040e8b\")\n"
   ]
  },
  {
   "cell_type": "markdown",
   "id": "053a3884",
   "metadata": {},
   "source": [
    "## detail"
   ]
  },
  {
   "cell_type": "code",
   "execution_count": 27,
   "id": "f8bfa544",
   "metadata": {},
   "outputs": [
    {
     "name": "stdout",
     "output_type": "stream",
     "text": [
      "금융권 은행들 대출이자 금리장사해서 역대급 성과급 잔치... 당장 최저 금리로 인하 시켜주세요! \n"
     ]
    }
   ],
   "source": [
    "details=soup2.find(\"div\",\"pet-doc__cont\")\n",
    "details=details.text\n",
    "\n",
    "#\\n이랑 쓸데없는 공백 &nbsp처리\n",
    "details=cleaned_text = re.sub(r'\\s+', ' ', details)\n",
    "print(details)"
   ]
  },
  {
   "cell_type": "markdown",
   "id": "f2f353c3",
   "metadata": {},
   "source": [
    "## result\n",
    "있는 경우"
   ]
  },
  {
   "cell_type": "code",
   "execution_count": 28,
   "id": "98388a15",
   "metadata": {},
   "outputs": [
    {
     "name": "stdout",
     "output_type": "stream",
     "text": [
      " <청원 처리결과> □ '23.11.15.에 접수된 귀하의 청원(20231101-1103000-0002)에 대한 회신입니다. □ 귀하의 관심과 제언에 감사드립니다. 다만, 은행의 대출 금리는 조달비용, 신용원가 등을 감안하여 개별 은행이 자율적으로 결정하는 사안에 해당하므로, 원칙적으로 우리원이 간여하기 어려움을 알려드립니다. □ 다만, 귀하께서 말씀하신 내용은 향후 우리원 업무추진시 참고하여 은행의 금융서비스가 보다 금융소비자 친화적으로 이루어질 수 있도록 노력하겠습니다. 끝. \n"
     ]
    }
   ],
   "source": [
    "details=soup2.find(\"div\",\"pet-doc__result\")\n",
    "details=details.text\n",
    "\n",
    "#\\n이랑 쓸데없는 공백 &nbsp처리\n",
    "details=cleaned_text = re.sub(r'\\s+', ' ', details)\n",
    "print(details)"
   ]
  },
  {
   "cell_type": "markdown",
   "id": "5828aae1",
   "metadata": {},
   "source": [
    "## state"
   ]
  },
  {
   "cell_type": "code",
   "execution_count": 29,
   "id": "997ae625",
   "metadata": {},
   "outputs": [
    {
     "data": {
      "text/plain": [
       "'종결'"
      ]
     },
     "execution_count": 29,
     "metadata": {},
     "output_type": "execute_result"
    }
   ],
   "source": [
    "state=soup2.find(\"ul\",\"process\").find('li','on')\n",
    "state=state.text\n",
    "state"
   ]
  },
  {
   "cell_type": "markdown",
   "id": "b151e858",
   "metadata": {},
   "source": [
    "## views\n",
    "딱히 태그가 없어 보여서...selenium xpath로 검색"
   ]
  },
  {
   "cell_type": "code",
   "execution_count": 36,
   "id": "5724d472",
   "metadata": {},
   "outputs": [
    {
     "data": {
      "text/plain": [
       "'27'"
      ]
     },
     "execution_count": 36,
     "metadata": {},
     "output_type": "execute_result"
    }
   ],
   "source": [
    "views=driver.find_element(By.XPATH,'//*[@id=\"lay-content\"]/div/div/div[1]/div[1]/div[2]/div').text\n",
    "views=views.split('조회 수 ')\n",
    "views=views[1]\n",
    "views"
   ]
  },
  {
   "cell_type": "markdown",
   "id": "9cdb6a10",
   "metadata": {},
   "source": [
    "## comment_num"
   ]
  },
  {
   "cell_type": "code",
   "execution_count": 33,
   "id": "a0d2be2e",
   "metadata": {},
   "outputs": [
    {
     "data": {
      "text/plain": [
       "'5'"
      ]
     },
     "execution_count": 33,
     "metadata": {},
     "output_type": "execute_result"
    }
   ],
   "source": [
    "comment_num=soup2.find(\"div\",\"total\").find('span','blue')\n",
    "comment_num=comment_num.text\n",
    "comment_num"
   ]
  },
  {
   "cell_type": "markdown",
   "id": "3f973f2f",
   "metadata": {},
   "source": [
    "# 순회"
   ]
  },
  {
   "cell_type": "markdown",
   "id": "59082b48",
   "metadata": {},
   "source": [
    "### 질문\n",
    ">태그가 없는 항목(\"View\") 때문에 selenium이 필요하긴한데...\n",
    ">브라우저 세션을 여는 것때문에 일반적으로 request가 서버 부하도 덜하대서 고민중\n",
    "\n",
    "\n",
    ">그거 말고도 selenium으로 게시판 아래 >>버튼 눌러서\n",
    ">\n",
    "> 클릭해서 끝페이지 부터 읽어올지/아니면 그냥 순회 번호 입력할지 고민중\n",
    ">\n",
    "> bs4로 onclick속성이 있는 a태그를 읽었을때 마지막 태그가 >>라서 \n",
    ">\n",
    ">  `<a class=\"cs-paging__last\" href=\"?pageIndex=218\" onclick=\"linkPage(218);return false; \">끝 페이지</a>]`\n",
    ">\n",
    ">  에서 linkpage안의 값 읽어오면 되긴하는데... 옛날것부터 넣을거임? 그럼 url 에 searchType=3으로 바꾸면 됨\n",
    "\n",
    "\n",
    "\n",
    ">그리고 코드가 너무...난잡한거같아서 고민\n",
    ">자식관계 생각안하고 그냥 class로 접근 가능해서 그렇게 했는데\n",
    ">동일한 부모를 가진 태그를 뽑고 그 태그 내에서 동일한 값들을 뽑는게 더 깔끔한지?\n",
    "\n",
    ">게시글 접근 시 오류가 뜨는데 코드의 문제는 아닌거 같음, 대기 시간을 줘야하는지?\n"
   ]
  },
  {
   "cell_type": "markdown",
   "id": "fecbdc05",
   "metadata": {},
   "source": [
    "### selenium(아직 안함)"
   ]
  },
  {
   "cell_type": "code",
   "execution_count": 3,
   "id": "911a90b7",
   "metadata": {},
   "outputs": [
    {
     "ename": "NameError",
     "evalue": "name 'driver' is not defined",
     "output_type": "error",
     "traceback": [
      "\u001b[1;31m---------------------------------------------------------------------------\u001b[0m",
      "\u001b[1;31mNameError\u001b[0m                                 Traceback (most recent call last)",
      "\u001b[1;32m<ipython-input-3-535281595e87>\u001b[0m in \u001b[0;36m<module>\u001b[1;34m\u001b[0m\n\u001b[0;32m      1\u001b[0m \u001b[1;32mfor\u001b[0m \u001b[0mi\u001b[0m \u001b[1;32min\u001b[0m \u001b[0mrange\u001b[0m\u001b[1;33m(\u001b[0m\u001b[1;36m1\u001b[0m\u001b[1;33m,\u001b[0m\u001b[1;36m10\u001b[0m\u001b[1;33m)\u001b[0m\u001b[1;33m:\u001b[0m\u001b[1;31m#게시판 순회\u001b[0m\u001b[1;33m\u001b[0m\u001b[1;33m\u001b[0m\u001b[0m\n\u001b[1;32m----> 2\u001b[1;33m     \u001b[0mdriver\u001b[0m\u001b[1;33m.\u001b[0m\u001b[0mget\u001b[0m\u001b[1;33m(\u001b[0m\u001b[1;34m\"https://cheongwon.go.kr/portal/petition/open/view?pageIndex=1&searchType=1&searchKeyword=&type=list\"\u001b[0m\u001b[1;33m)\u001b[0m\u001b[1;33m\u001b[0m\u001b[1;33m\u001b[0m\u001b[0m\n\u001b[0m\u001b[0;32m      3\u001b[0m     \u001b[0mWebDriverWait\u001b[0m\u001b[1;33m(\u001b[0m\u001b[0mdriver\u001b[0m\u001b[1;33m,\u001b[0m\u001b[1;36m10\u001b[0m\u001b[1;33m)\u001b[0m\u001b[1;33m.\u001b[0m\u001b[0muntil\u001b[0m\u001b[1;33m(\u001b[0m\u001b[0mEC\u001b[0m\u001b[1;33m.\u001b[0m\u001b[0mpresence_of_all_elements_located\u001b[0m\u001b[1;33m(\u001b[0m\u001b[1;33m(\u001b[0m\u001b[0mBy\u001b[0m\u001b[1;33m.\u001b[0m\u001b[0mXPATH\u001b[0m\u001b[1;33m,\u001b[0m\u001b[1;34m'//body'\u001b[0m\u001b[1;33m)\u001b[0m\u001b[1;33m)\u001b[0m\u001b[1;33m)\u001b[0m\u001b[1;33m\u001b[0m\u001b[1;33m\u001b[0m\u001b[0m\n\u001b[0;32m      4\u001b[0m \u001b[1;33m\u001b[0m\u001b[0m\n\u001b[0;32m      5\u001b[0m     \u001b[1;31m#게시글 주소\u001b[0m\u001b[1;33m\u001b[0m\u001b[1;33m\u001b[0m\u001b[0m\n",
      "\u001b[1;31mNameError\u001b[0m: name 'driver' is not defined"
     ]
    }
   ],
   "source": [
    "for i in range(1,10):#게시판 순회\n",
    "    driver.get(\"https://cheongwon.go.kr/portal/petition/open/view?pageIndex=1&searchType=1&searchKeyword=&type=list\")\n",
    "    WebDriverWait(driver,10).until(EC.presence_of_all_elements_located((By.XPATH,'//body')))\n",
    "    \n",
    "    #게시글 주소\n",
    "    id_list = driver.find_elements(By.XPATH,\"//a[contains(@onclick, 'fn_detailView')]\")\n",
    "    for id in id_list:\n",
    "        id=id.get_attribute(\"onclick\").split('\\'')[1]\n",
    "    \n",
    "    \n"
   ]
  },
  {
   "cell_type": "markdown",
   "id": "54c26c22",
   "metadata": {},
   "source": [
    "### requests"
   ]
  },
  {
   "cell_type": "code",
   "execution_count": 4,
   "id": "ed99d732",
   "metadata": {},
   "outputs": [],
   "source": [
    "header={\"User-Agent\":\"Mozilla/5.0 (Windows NT 10.0; Win64; x64) AppleWebKit/537.36 (KHTML, like Gecko) Chrome/123.0.0.0 Safari/537.36\"}\n",
    "\n",
    "\n",
    "res=requests.get(\"https://cheongwon.go.kr/portal/petition/open/view\",headers=header)\n",
    "soup=bs(res.text,\"html.parser\")"
   ]
  },
  {
   "cell_type": "code",
   "execution_count": 5,
   "id": "5fa804c0",
   "metadata": {},
   "outputs": [
    {
     "data": {
      "text/plain": [
       "218"
      ]
     },
     "execution_count": 5,
     "metadata": {},
     "output_type": "execute_result"
    }
   ],
   "source": [
    "final_index=soup.find('a','cs-paging__last').get('href')\n",
    "final_index=int(final_index.split(\"=\")[-1])\n",
    "final_index"
   ]
  },
  {
   "cell_type": "code",
   "execution_count": 7,
   "id": "e224aada",
   "metadata": {},
   "outputs": [
    {
     "ename": "InvalidSchema",
     "evalue": "No connection adapters were found for '\"https://cheongwon.go.kr/portal/petition/open/viewdetail/PRI4d82f08dedcd4af58b575527a3b5ef58\"'",
     "output_type": "error",
     "traceback": [
      "\u001b[1;31m---------------------------------------------------------------------------\u001b[0m",
      "\u001b[1;31mInvalidSchema\u001b[0m                             Traceback (most recent call last)",
      "\u001b[1;32m<ipython-input-7-628e12b74146>\u001b[0m in \u001b[0;36m<module>\u001b[1;34m\u001b[0m\n\u001b[0;32m     72\u001b[0m     \u001b[1;32mfor\u001b[0m \u001b[0murl\u001b[0m \u001b[1;32min\u001b[0m \u001b[0mthispage_posturl\u001b[0m\u001b[1;33m:\u001b[0m \u001b[1;31m#해당 페이지의 게시글 url이 들어있음\u001b[0m\u001b[1;33m\u001b[0m\u001b[1;33m\u001b[0m\u001b[0m\n\u001b[0;32m     73\u001b[0m             \u001b[0mpost_count\u001b[0m\u001b[1;33m+=\u001b[0m\u001b[1;36m1\u001b[0m\u001b[1;33m\u001b[0m\u001b[1;33m\u001b[0m\u001b[0m\n\u001b[1;32m---> 74\u001b[1;33m             \u001b[0mres_\u001b[0m\u001b[1;33m=\u001b[0m\u001b[0mrequests\u001b[0m\u001b[1;33m.\u001b[0m\u001b[0mget\u001b[0m\u001b[1;33m(\u001b[0m\u001b[0murl\u001b[0m\u001b[1;33m,\u001b[0m\u001b[0mheaders\u001b[0m\u001b[1;33m=\u001b[0m\u001b[0mheader\u001b[0m\u001b[1;33m)\u001b[0m\u001b[1;33m\u001b[0m\u001b[1;33m\u001b[0m\u001b[0m\n\u001b[0m\u001b[0;32m     75\u001b[0m             \u001b[0msoup_\u001b[0m\u001b[1;33m=\u001b[0m\u001b[0mbs\u001b[0m\u001b[1;33m(\u001b[0m\u001b[0mres_\u001b[0m\u001b[1;33m.\u001b[0m\u001b[0mtext\u001b[0m\u001b[1;33m,\u001b[0m\u001b[1;34m\"html.parser\"\u001b[0m\u001b[1;33m)\u001b[0m\u001b[1;33m\u001b[0m\u001b[1;33m\u001b[0m\u001b[0m\n\u001b[0;32m     76\u001b[0m \u001b[1;33m\u001b[0m\u001b[0m\n",
      "\u001b[1;32m~\\AppData\\Local\\Packages\\PythonSoftwareFoundation.Python.3.9_qbz5n2kfra8p0\\LocalCache\\local-packages\\Python39\\site-packages\\requests\\api.py\u001b[0m in \u001b[0;36mget\u001b[1;34m(url, params, **kwargs)\u001b[0m\n\u001b[0;32m     71\u001b[0m     \"\"\"\n\u001b[0;32m     72\u001b[0m \u001b[1;33m\u001b[0m\u001b[0m\n\u001b[1;32m---> 73\u001b[1;33m     \u001b[1;32mreturn\u001b[0m \u001b[0mrequest\u001b[0m\u001b[1;33m(\u001b[0m\u001b[1;34m\"get\"\u001b[0m\u001b[1;33m,\u001b[0m \u001b[0murl\u001b[0m\u001b[1;33m,\u001b[0m \u001b[0mparams\u001b[0m\u001b[1;33m=\u001b[0m\u001b[0mparams\u001b[0m\u001b[1;33m,\u001b[0m \u001b[1;33m**\u001b[0m\u001b[0mkwargs\u001b[0m\u001b[1;33m)\u001b[0m\u001b[1;33m\u001b[0m\u001b[1;33m\u001b[0m\u001b[0m\n\u001b[0m\u001b[0;32m     74\u001b[0m \u001b[1;33m\u001b[0m\u001b[0m\n\u001b[0;32m     75\u001b[0m \u001b[1;33m\u001b[0m\u001b[0m\n",
      "\u001b[1;32m~\\AppData\\Local\\Packages\\PythonSoftwareFoundation.Python.3.9_qbz5n2kfra8p0\\LocalCache\\local-packages\\Python39\\site-packages\\requests\\api.py\u001b[0m in \u001b[0;36mrequest\u001b[1;34m(method, url, **kwargs)\u001b[0m\n\u001b[0;32m     57\u001b[0m     \u001b[1;31m# cases, and look like a memory leak in others.\u001b[0m\u001b[1;33m\u001b[0m\u001b[1;33m\u001b[0m\u001b[0m\n\u001b[0;32m     58\u001b[0m     \u001b[1;32mwith\u001b[0m \u001b[0msessions\u001b[0m\u001b[1;33m.\u001b[0m\u001b[0mSession\u001b[0m\u001b[1;33m(\u001b[0m\u001b[1;33m)\u001b[0m \u001b[1;32mas\u001b[0m \u001b[0msession\u001b[0m\u001b[1;33m:\u001b[0m\u001b[1;33m\u001b[0m\u001b[1;33m\u001b[0m\u001b[0m\n\u001b[1;32m---> 59\u001b[1;33m         \u001b[1;32mreturn\u001b[0m \u001b[0msession\u001b[0m\u001b[1;33m.\u001b[0m\u001b[0mrequest\u001b[0m\u001b[1;33m(\u001b[0m\u001b[0mmethod\u001b[0m\u001b[1;33m=\u001b[0m\u001b[0mmethod\u001b[0m\u001b[1;33m,\u001b[0m \u001b[0murl\u001b[0m\u001b[1;33m=\u001b[0m\u001b[0murl\u001b[0m\u001b[1;33m,\u001b[0m \u001b[1;33m**\u001b[0m\u001b[0mkwargs\u001b[0m\u001b[1;33m)\u001b[0m\u001b[1;33m\u001b[0m\u001b[1;33m\u001b[0m\u001b[0m\n\u001b[0m\u001b[0;32m     60\u001b[0m \u001b[1;33m\u001b[0m\u001b[0m\n\u001b[0;32m     61\u001b[0m \u001b[1;33m\u001b[0m\u001b[0m\n",
      "\u001b[1;32m~\\AppData\\Local\\Packages\\PythonSoftwareFoundation.Python.3.9_qbz5n2kfra8p0\\LocalCache\\local-packages\\Python39\\site-packages\\requests\\sessions.py\u001b[0m in \u001b[0;36mrequest\u001b[1;34m(self, method, url, params, data, headers, cookies, files, auth, timeout, allow_redirects, proxies, hooks, stream, verify, cert, json)\u001b[0m\n\u001b[0;32m    587\u001b[0m         }\n\u001b[0;32m    588\u001b[0m         \u001b[0msend_kwargs\u001b[0m\u001b[1;33m.\u001b[0m\u001b[0mupdate\u001b[0m\u001b[1;33m(\u001b[0m\u001b[0msettings\u001b[0m\u001b[1;33m)\u001b[0m\u001b[1;33m\u001b[0m\u001b[1;33m\u001b[0m\u001b[0m\n\u001b[1;32m--> 589\u001b[1;33m         \u001b[0mresp\u001b[0m \u001b[1;33m=\u001b[0m \u001b[0mself\u001b[0m\u001b[1;33m.\u001b[0m\u001b[0msend\u001b[0m\u001b[1;33m(\u001b[0m\u001b[0mprep\u001b[0m\u001b[1;33m,\u001b[0m \u001b[1;33m**\u001b[0m\u001b[0msend_kwargs\u001b[0m\u001b[1;33m)\u001b[0m\u001b[1;33m\u001b[0m\u001b[1;33m\u001b[0m\u001b[0m\n\u001b[0m\u001b[0;32m    590\u001b[0m \u001b[1;33m\u001b[0m\u001b[0m\n\u001b[0;32m    591\u001b[0m         \u001b[1;32mreturn\u001b[0m \u001b[0mresp\u001b[0m\u001b[1;33m\u001b[0m\u001b[1;33m\u001b[0m\u001b[0m\n",
      "\u001b[1;32m~\\AppData\\Local\\Packages\\PythonSoftwareFoundation.Python.3.9_qbz5n2kfra8p0\\LocalCache\\local-packages\\Python39\\site-packages\\requests\\sessions.py\u001b[0m in \u001b[0;36msend\u001b[1;34m(self, request, **kwargs)\u001b[0m\n\u001b[0;32m    695\u001b[0m \u001b[1;33m\u001b[0m\u001b[0m\n\u001b[0;32m    696\u001b[0m         \u001b[1;31m# Get the appropriate adapter to use\u001b[0m\u001b[1;33m\u001b[0m\u001b[1;33m\u001b[0m\u001b[0m\n\u001b[1;32m--> 697\u001b[1;33m         \u001b[0madapter\u001b[0m \u001b[1;33m=\u001b[0m \u001b[0mself\u001b[0m\u001b[1;33m.\u001b[0m\u001b[0mget_adapter\u001b[0m\u001b[1;33m(\u001b[0m\u001b[0murl\u001b[0m\u001b[1;33m=\u001b[0m\u001b[0mrequest\u001b[0m\u001b[1;33m.\u001b[0m\u001b[0murl\u001b[0m\u001b[1;33m)\u001b[0m\u001b[1;33m\u001b[0m\u001b[1;33m\u001b[0m\u001b[0m\n\u001b[0m\u001b[0;32m    698\u001b[0m \u001b[1;33m\u001b[0m\u001b[0m\n\u001b[0;32m    699\u001b[0m         \u001b[1;31m# Start time (approximately) of the request\u001b[0m\u001b[1;33m\u001b[0m\u001b[1;33m\u001b[0m\u001b[0m\n",
      "\u001b[1;32m~\\AppData\\Local\\Packages\\PythonSoftwareFoundation.Python.3.9_qbz5n2kfra8p0\\LocalCache\\local-packages\\Python39\\site-packages\\requests\\sessions.py\u001b[0m in \u001b[0;36mget_adapter\u001b[1;34m(self, url)\u001b[0m\n\u001b[0;32m    792\u001b[0m \u001b[1;33m\u001b[0m\u001b[0m\n\u001b[0;32m    793\u001b[0m         \u001b[1;31m# Nothing matches :-/\u001b[0m\u001b[1;33m\u001b[0m\u001b[1;33m\u001b[0m\u001b[0m\n\u001b[1;32m--> 794\u001b[1;33m         \u001b[1;32mraise\u001b[0m \u001b[0mInvalidSchema\u001b[0m\u001b[1;33m(\u001b[0m\u001b[1;34mf\"No connection adapters were found for {url!r}\"\u001b[0m\u001b[1;33m)\u001b[0m\u001b[1;33m\u001b[0m\u001b[1;33m\u001b[0m\u001b[0m\n\u001b[0m\u001b[0;32m    795\u001b[0m \u001b[1;33m\u001b[0m\u001b[0m\n\u001b[0;32m    796\u001b[0m     \u001b[1;32mdef\u001b[0m \u001b[0mclose\u001b[0m\u001b[1;33m(\u001b[0m\u001b[0mself\u001b[0m\u001b[1;33m)\u001b[0m\u001b[1;33m:\u001b[0m\u001b[1;33m\u001b[0m\u001b[1;33m\u001b[0m\u001b[0m\n",
      "\u001b[1;31mInvalidSchema\u001b[0m: No connection adapters were found for '\"https://cheongwon.go.kr/portal/petition/open/viewdetail/PRI4d82f08dedcd4af58b575527a3b5ef58\"'"
     ]
    }
   ],
   "source": [
    "#page_index번쨰 페이지  post_count번째 글\n",
    "#page_index*9+post_count-1번째 글\n",
    "#page_index*9+post_count-2 가 dict 위치\n",
    "for page_index in range(1, final_index):\n",
    "    res=requests.get(f\"https://cheongwon.go.kr/portal/petition/open/view?pageIndex={page_index}&searchType=1&searchKeyword=&type=list\",headers=header)\n",
    "    soup=bs(res.text,\"html.parser\")\n",
    "    post_count=0\n",
    "\n",
    "    #게시판에서 얻을 수 있는 정보들\n",
    "    #url\n",
    "    #period\n",
    "    #date\n",
    "    #title\n",
    "    #agency\n",
    "\n",
    "\n",
    "    ###각 게시글들 url구하기(url)\n",
    "    #https://cheongwon.go.kr/portal/petition/open/viewdetail/{추출한 속성}\n",
    "    thispage_posturl=[]#해당 페이지 게시글 탐색시 사용할 url리스트\n",
    "    a_tag=soup.find_all(\"a\", onclick=True)\n",
    "    for post in a_tag : #a_tag중 게시글 태그만\n",
    "        if post.get(\"style\") == \"cursor: pointer;\":\n",
    "            post=post.get(\"onclick\").split('\\'')[1]\n",
    "            post_url=\"https://cheongwon.go.kr/portal/petition/open/viewdetail/\"+post\n",
    "            # petition_dict[\"post\"].append(post)\n",
    "            petition_dict[\"post_url\"].append(post_url)\n",
    "            thispage_posturl.append(\"\\\"\"+post_url+\"\\\"\")\n",
    "\n",
    "\n",
    "\n",
    "\n",
    "    ###청원 의견 수렴(동의)기간 구하기(period)\n",
    "    ###청원 신청 날짜 구하기 == 의견수렴 날짜 -15(date)\n",
    "    period_tags=soup.find_all(\"span\",\"date\")\n",
    "    for period in period_tags:\n",
    "        #날짜만 구함\n",
    "        period=period.get_text()\n",
    "        period=period.split(':')[1].strip()\n",
    "        #[시작 날짜, 종료 날짜]\n",
    "        period = period.split('~')\n",
    "        #형식 바꿔서 넣을 period_delta\n",
    "        period_delta=[]\n",
    "        #datetime형식으로 바꾸기 \n",
    "        period_delta.append(datetime.strptime(period[0],'%Y.%m.%d'))\n",
    "        period_delta.append(datetime.strptime(period[1],'%Y.%m.%d'))\n",
    "        #datetime형식으로 넣기 싫으면 period넣으면됨\n",
    "        petition_dict[\"period\"].append(period_delta)\n",
    "        \n",
    "        date=period_delta[0]-timedelta(days=15)\n",
    "        #datetime형식으로 넣기 싫으면 아래 코드 주석 처리 해제\n",
    "        #date=date.strftime(\"%Y.%m.%d\")\n",
    "        petition_dict[\"date\"].append(date)\n",
    "\n",
    "    ###청원 제목 구하기(title)\n",
    "    title_tags=soup.find_all(\"span\",\"subject\")\n",
    "    for title in title_tags:\n",
    "        petition_dict[\"title\"].append( title.get(\"title\"))\n",
    "\n",
    "    ###담당부서 구하기(agency)\n",
    "    agency_tags=soup.find_all(\"span\",\"category\")\n",
    "    for agency in agency_tags:\n",
    "        petition_dict[\"agency\"].append(agency.text)\n",
    "        \n",
    "    #게시글에서 추가로 얻을 수 있는 정보들\n",
    "    #details\n",
    "    #result\n",
    "    #state\n",
    "    #view\n",
    "    #comment_num     근데 이거 반대는 없지만 댓글로 반대의견 표현하는 경우도 있어서 고민중... 일단 comment num만 받음\n",
    "    time.sleep(2)\n",
    "    WebDriverWait\n",
    "    for url in thispage_posturl: #해당 페이지의 게시글 url이 들어있음\n",
    "            post_count+=1\n",
    "            res_=requests.get(url,headers=header)\n",
    "            soup_=bs(res_.text,\"html.parser\")\n",
    "\n",
    "            ###청원 내용 구하기(detail)\n",
    "            detail=soup_.find(\"div\",\"pet-doc__cont\")\n",
    "            detail=details.text\n",
    "            #\\n이랑 쓸데없는 공백 &nbsp처리\n",
    "            detail=cleaned_text = re.sub(r'\\s+', ' ', details)\n",
    "            petition_dict[\"detail\"].append(detail)\n",
    "\n",
    "            ### 처리 결과 구하기  (result)\n",
    "            result=soup_.find(\"div\",\"pet-doc__result\")\n",
    "            if result : #답변이 존재할 때\n",
    "                result=result.text\n",
    "                #\\n이랑 쓸데없는 공백 &nbsp처리\n",
    "                result = re.sub(r'\\s+', ' ', result)\n",
    "                petition_dict[\"result\"].append(result)\n",
    "            else : #답변이 없을 때>None삽입\n",
    "                petition_dict[\"result\"].append(None)\n",
    "                \n",
    "            ### 상태 구하기(state)\n",
    "            state=soup_.find(\"ul\",\"process\").find('li','on')\n",
    "            state=state.text\n",
    "            petition_dict[\"state\"].append(state)\n",
    "\n",
    "            ### 댓글 숫자 구하기(comment_num)\n",
    "            comment_num=soup_.find(\"div\",\"total\").find('span','blue')\n",
    "            comment_num=comment_num.text\n",
    "            petition_dict[\"comment_num\"].append(comment_num)\n",
    "\n",
    "            ###조회수 구하기 (views)\n",
    "            views = soup_.find(\"div\",\"link\").find(\"div\")\n",
    "            views=views.text.replace('조회 수 ','').strip()\n",
    "            petition_dict['views'].append(views)\n",
    "\n",
    "            ### 세부담당 부서 구하기(agency_detail)\n",
    "            agency_detail=soup_.find(\"div\",\"category\").find(\"span\")\n",
    "            agency_detail=agency_detail.text.replace(\"처리기관: \",\"\").strip()\n",
    "            petition_dict['agency_detail']=agency_detail\n",
    "            time.sleep(2)"
   ]
  },
  {
   "cell_type": "code",
   "execution_count": 108,
   "id": "074a68bf",
   "metadata": {},
   "outputs": [],
   "source": [
    "x=\"https://cheongwon.go.kr/portal/petition/open/viewdetail/PRI80995be2cefd4f3fa4b9fb4b6f1204c8\""
   ]
  },
  {
   "cell_type": "code",
   "execution_count": 109,
   "id": "a273efeb",
   "metadata": {},
   "outputs": [],
   "source": [
    "res_=requests.get(x)\n",
    "soup_=bs(res_.text,\"html.parser\")"
   ]
  }
 ],
 "metadata": {
  "kernelspec": {
   "display_name": "Python 3 (ipykernel)",
   "language": "python",
   "name": "python3"
  },
  "language_info": {
   "codemirror_mode": {
    "name": "ipython",
    "version": 3
   },
   "file_extension": ".py",
   "mimetype": "text/x-python",
   "name": "python",
   "nbconvert_exporter": "python",
   "pygments_lexer": "ipython3",
   "version": "3.9.13"
  }
 },
 "nbformat": 4,
 "nbformat_minor": 5
}
