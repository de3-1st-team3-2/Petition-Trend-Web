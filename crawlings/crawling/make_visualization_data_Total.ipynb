{
 "cells": [
  {
   "cell_type": "code",
   "execution_count": 1,
   "id": "338faa63",
   "metadata": {},
   "outputs": [],
   "source": [
    "import pandas as pd\n",
    "from wordcloud import WordCloud\n",
    "import matplotlib.pyplot as plt\n",
    "import numpy as np\n",
    "from collections import Counter\n",
    "from konlpy.tag import Hannanum\n",
    "import json\n",
    "import re\n",
    "hannanum = Hannanum()"
   ]
  },
  {
   "cell_type": "code",
   "execution_count": 2,
   "id": "8d81acc3",
   "metadata": {},
   "outputs": [],
   "source": [
    "##### 데이터 파일의 경로를 여기서 지정해주세요 ########\n",
    "\n",
    "# df_24[1]['date']#title\n",
    "# df_T[1]['periods']#title\n",
    "# df_E[2]#[0]\n",
    "# df_C['날짜']#['제목']\n",
    "# df_I['date']#['title]\n",
    "\n",
    "site_name='상상대로 서울'\n",
    "file_path='graph_png/'\n",
    "df_I=pd.read_json('Ideaseoul.json')\n",
    "\n",
    "data_date_I=[str(x) for x in df_I['date']]\n",
    "data_word_I=[x for x in df_I['title']]\n",
    "\n",
    "      \n",
    "site_name='국민 신문고'\n",
    "file_path='graph_png/'\n",
    "df_E=pd.read_json('Epeople.json').values\n",
    "df2_E=pd.read_json('Epeople2.json').values\n",
    "\n",
    "data_date_E=np.append(df_E[2],df2_E[2])\n",
    "data_word_E=np.append(df_E[0],df2_E[0])\n",
    "\n",
    "\n",
    "site_name='국민동의 청원'\n",
    "file_path='graph_png/'\n",
    "df_C=pd.read_json('Congress.json')\n",
    "\n",
    "data_date_C=df_C['날짜']\n",
    "data_word_C=df_C['제목']\n",
    "sort_C=sorted(zip(data_date_C,data_word_C))\n",
    "data_date_C,data_word_C=zip(*sort_C)\n",
    "\n",
    "site_name='청원 24'\n",
    "file_path='graph_png/'\n",
    "df_24=pd.read_json('CW24.json')\n",
    "df_24=df_24['fields']\n",
    "\n",
    "data_date_24=[(df_24[x]['date']) for x in range(len(df_24))]\n",
    "data_word_24=[df_24[x]['title'] for x in range(len(df_24))]\n",
    "\n",
    "\n",
    "\n",
    "site_name='국민 생각함'\n",
    "file_path='graph_png/'\n",
    "df_T=pd.read_json('Think.json').values#2차원 리스트[[데이터들],[데이터들]]\n",
    "data_date_T=[]\n",
    "data_word_T=[]\n",
    "df2_T=df_T[0]\n",
    "for x in range(1,len(df_T)):\n",
    "    df2_T=np.append(df2_T,df_T[x])\n",
    "df_T=df2_T#[데이터들]\n",
    "\n",
    "for x in range(0,len(df_T)):\n",
    "    data_date_T.append(df_T[x]['periods'].split(' ~ ')[0])\n",
    "    data_word_T.append(df_T[x]['title'])\n",
    "\n",
    "data_date_T2=[]\n",
    "for x in range(len(data_date_T)):\n",
    "    data_date_T2.append(float(data_date_T[x].split('.')[1]+'.'+data_date_T[x].split('.')[2]))\n",
    "\n",
    "sort_T=sorted(zip(data_date_T2,data_date_T,data_word_T))\n",
    "data_date_T2,data_date_T,data_word_T=zip(*sort_T)\n",
    "    \n",
    "\n",
    "\n"
   ]
  },
  {
   "cell_type": "markdown",
   "id": "72684635",
   "metadata": {},
   "source": [
    "########### 워드 data를 만들기 #########"
   ]
  },
  {
   "cell_type": "code",
   "execution_count": 3,
   "id": "32477a14",
   "metadata": {},
   "outputs": [],
   "source": [
    "def split_month(data_date,split_char):\n",
    "    # try:\n",
    "    period=[[]]\n",
    "    y=data_date[0].split(split_char)[0]\n",
    "    m=data_date[0].split(split_char)[1]\n",
    "    period[0].append((f'{m}월')) \n",
    "\n",
    "    ycount=0\n",
    "    \n",
    "    for x in data_date:\n",
    "        data_m = x.split(split_char)[1]\n",
    "        data_y = x.split(split_char)[0]\n",
    "        if data_m != m:\n",
    "            m=data_m\n",
    "            if data_y != y:\n",
    "                period.append(f'{y}년')\n",
    "                period.append([])\n",
    "                \n",
    "                y=data_y\n",
    "                ycount+=2\n",
    "            \n",
    "            period[ycount].append(f'{data_m}월') \n",
    "  \n",
    "    period.append(f'{data_y}년') \n",
    "    \n",
    "\n",
    "            \n",
    "            \n",
    "# except:print(period)\n",
    "\n",
    "\n",
    "    return period if period!=None else print('엥?')\n"
   ]
  },
  {
   "cell_type": "code",
   "execution_count": 4,
   "id": "3470ade8",
   "metadata": {},
   "outputs": [],
   "source": [
    "#날짜 쪼개줌\n",
    "month=[['months'],'year']\n",
    "\n",
    "month_I=split_month(data_date_I,'-')\n",
    "month_E=split_month(data_date_E,'-')\n",
    "month_C=split_month(data_date_C,'-')\n",
    "month_24=split_month(data_date_24,'-')\n",
    "month_T=split_month(data_date_T,'.')"
   ]
  },
  {
   "cell_type": "code",
   "execution_count": 5,
   "id": "239621fc",
   "metadata": {},
   "outputs": [],
   "source": [
    "#달 기준으로 제목들 합쳐줌\n",
    "\n",
    "\n",
    "def data_word(data_date,data_word,split_text):\n",
    "    text=[]\n",
    "    data={}\n",
    "    data['title']=[]\n",
    "    m=data_date[0].split(split_text)[1]\n",
    "    for x in range(len(data_date)):\n",
    "        # print(data_date[x])\n",
    "        if data_date[x].split(split_text)[1] == m :\n",
    "            text.append(data_word[x])\n",
    "        else : #지금 나 이동했네?\n",
    "            data['title'].append(' '.join(text))#이전 텍스트 합쳐서 넣어줌\n",
    "            m=data_date[x].split(split_text)[1]#지금 날짜도 바꿔주고\n",
    "            text=[]#다시 비워주고\n",
    "            text.append(data_word[x])\n",
    "    if text != []:        #다 돌았을떄 쌓인거 push해주고\n",
    "        data['title'].append(' '.join(text))\n",
    "        m=data_date[x].split(split_text)[1]\n",
    "        text=[]\n",
    "        text.append(data_word[x])\n",
    "    \n",
    "    return data['title']\n"
   ]
  },
  {
   "cell_type": "code",
   "execution_count": 6,
   "id": "437b35d0",
   "metadata": {},
   "outputs": [],
   "source": [
    "text_24=data_word(data_date_24,data_word_24,'-')\n",
    "text_E=data_word(data_date_E,data_word_E,'-')\n",
    "text_C=data_word(data_date_C,data_word_C,'-')\n",
    "text_I=data_word(data_date_I,data_word_I,'-')\n",
    "text_T=data_word(data_date_T,data_word_T,'.')\n"
   ]
  },
  {
   "cell_type": "code",
   "execution_count": 7,
   "id": "8893f462",
   "metadata": {},
   "outputs": [],
   "source": [
    "\n",
    "def Count_word(text):\n",
    "    counter=[]\n",
    "    for i in range(len(text)):\n",
    "        words=[]\n",
    "\n",
    "        nouns=hannanum.nouns(text[i])\n",
    "        words+=nouns\n",
    "        \n",
    "        counter.append(Counter(words))\n",
    "    return counter"
   ]
  },
  {
   "cell_type": "code",
   "execution_count": 8,
   "id": "f39ef512",
   "metadata": {},
   "outputs": [],
   "source": [
    "#단어 카운트 해줌\n",
    "count_24=Count_word(text_24)\n",
    "count_T=Count_word(text_T)\n",
    "count_E=Count_word(text_E)\n",
    "count_I=Count_word(text_I)\n",
    "count_C=Count_word(text_C)"
   ]
  },
  {
   "cell_type": "code",
   "execution_count": 9,
   "id": "163f25b9",
   "metadata": {},
   "outputs": [],
   "source": [
    "def data(count_):\n",
    "    data={'word':[],'count':[]}\n",
    "    for count in count_ :\n",
    "        data['count'].append(list(count.values()))\n",
    "        data['word'].append(list(count.keys()))\n",
    "\n",
    "    return data"
   ]
  },
  {
   "cell_type": "code",
   "execution_count": 10,
   "id": "8fc70125",
   "metadata": {},
   "outputs": [],
   "source": [
    "#데이터 형식에 맞춰 넣어줌\n",
    "# data={'word':[],'count':[]}\n",
    "\n",
    "data_24=data(count_24)\n",
    "data_T=data(count_T)\n",
    "data_C=data(count_C)\n",
    "data_E=data(count_E)\n",
    "data_I=data(count_I)\n",
    "word_site_monthly_data=[]"
   ]
  },
  {
   "cell_type": "code",
   "execution_count": 21,
   "id": "53b09914",
   "metadata": {},
   "outputs": [
    {
     "data": {
      "text/plain": [
       "629"
      ]
     },
     "execution_count": 21,
     "metadata": {},
     "output_type": "execute_result"
    }
   ],
   "source": [
    "len(data_T['word'][0])"
   ]
  },
  {
   "cell_type": "code",
   "execution_count": 36,
   "id": "dfefe524",
   "metadata": {},
   "outputs": [],
   "source": [
    "#개별로 세서 dict에 추가\n",
    "def add_word_dict(site_name,data_,month_):\n",
    "    \n",
    "    num=0\n",
    "    next=0\n",
    "    for x in range(0,len(month_)//2):#연\n",
    "        num+=1\n",
    "        month=x*2\n",
    "        year=x*2+1\n",
    "        for m in month_[month]:#월\n",
    "            num+=1\n",
    "            for temp in range(len(data_['word'][next])):\n",
    "                data={}\n",
    "                data['word']=data_['word'][next][temp]\n",
    "                data['cnt']=data_['count'][next][temp]\n",
    "                data['source']=site_name\n",
    "                data['date']=f'{month_[year][0:4]}-{m[0:2]}-01'\n",
    "                data_form={'model':'visualization_data_store.MonthlySitewiseWordCount',\n",
    "                        'fields':data}\n",
    "                word_site_monthly_data.append(data_form)\n",
    "            next+=1"
   ]
  },
  {
   "cell_type": "code",
   "execution_count": 31,
   "id": "704316ef",
   "metadata": {},
   "outputs": [],
   "source": [
    "# #리스트로 dict에 추가\n",
    "# def add_word_dict(site_name,data_,month_):\n",
    "    \n",
    "#     num=0\n",
    "#     next=0#\n",
    "    \n",
    "#     for x in range(0,len(month_)//2):#연\n",
    "#         num+=1\n",
    "#         month=x*2\n",
    "#         year=x*2+1\n",
    "#         for m in month_[month]:#월\n",
    "#             num+=1\n",
    "            \n",
    "#             data={}\n",
    "#             data['word']=data_['word'][next]\n",
    "#             data['cnt']=data_['count'][next]\n",
    "#             data['source']=site_name\n",
    "#             data['date']=f'{month_[year][0:4]}-{m[0:2]}-01'\n",
    "#             data_form={'model':'visualization_data_store.MonthlySitewiseWordCount',\n",
    "#                        'fields':data}\n",
    "#             word_site_monthly_data.append(data_form)"
   ]
  },
  {
   "cell_type": "code",
   "execution_count": 37,
   "id": "4d38b20f",
   "metadata": {},
   "outputs": [],
   "source": [
    "##dict에 추가 \n",
    "\n",
    "word_site_monthly_data=[]\n",
    "add_word_dict('sub-think',data_T,month_T)\n",
    "add_word_dict('congress',data_C,month_C)\n",
    "add_word_dict('epeople',data_E,month_E)\n",
    "add_word_dict('ideaseoul',data_I,month_I)\n",
    "add_word_dict('cw24',data_24,month_24)"
   ]
  },
  {
   "cell_type": "markdown",
   "id": "f61e48ce",
   "metadata": {},
   "source": [
    "### save"
   ]
  },
  {
   "cell_type": "code",
   "execution_count": 38,
   "id": "ebf9ea3d",
   "metadata": {},
   "outputs": [],
   "source": [
    "with open(\"./data/MonthlyWordcount_data.json\", \"w\", encoding='utf-8') as f:\n",
    "    json.dump(word_site_monthly_data, f, ensure_ascii=False, indent=4)"
   ]
  },
  {
   "cell_type": "markdown",
   "id": "d78139cc",
   "metadata": {},
   "source": [
    "# ####### 월 청원 수 # ########"
   ]
  },
  {
   "cell_type": "code",
   "execution_count": 53,
   "id": "acdf1851",
   "metadata": {},
   "outputs": [],
   "source": [
    "def monthly_num_count(data_date,splittype):\n",
    "    monthly_num=[]\n",
    "    for month in range(1,13):\n",
    "        data=[x for x in data_date if (x.split(splittype)[0] == '2022')&( int(x.split(splittype)[1])== month)]\n",
    "        num = len(data)\n",
    "        monthly_num.append(num)\n",
    "\n",
    "    for month in range(1,13):\n",
    "        data=[x for x in data_date if (x.split(splittype)[0] == '2023')&( int(x.split(splittype)[1])== month)]\n",
    "        num = len(data)\n",
    "        monthly_num.append(num)\n",
    "\n",
    "    for month in range(1,5):\n",
    "        data=[x for x in data_date if (x.split(splittype)[0] == '2024')&( int(x.split(splittype)[1])== month)]\n",
    "        num = len(data)\n",
    "        monthly_num.append(num)\n",
    "\n",
    "    return monthly_num"
   ]
  },
  {
   "cell_type": "code",
   "execution_count": 54,
   "id": "c91e26d6",
   "metadata": {},
   "outputs": [],
   "source": [
    "\n",
    "monthly_num_E=monthly_num_count(data_date_E,'-')\n",
    "monthly_num_24=monthly_num_count(data_date_24,'-')\n",
    "monthly_num_I=monthly_num_count(data_date_I,'-')\n",
    "monthly_num_C=monthly_num_count(data_date_C,'-')\n",
    "monthly_num_T=monthly_num_count(data_date_T,'.')"
   ]
  },
  {
   "cell_type": "code",
   "execution_count": 55,
   "id": "bcd7e86e",
   "metadata": {},
   "outputs": [],
   "source": [
    "MonthlyNum_data=[]\n",
    "year=2022\n",
    "month=1\n",
    "month_=['00','01','02','03','04','05','06','07','08','09','10','11','12']\n",
    "for x in range(len(monthly_num_24)):\n",
    "    data={'date':f'{year}-{month_[month]}-01',\n",
    "          'epeople':monthly_num_I[x],\n",
    "          'congress':monthly_num_C[x],\n",
    "          'cw24':monthly_num_24[x],\n",
    "          'ideaseoul':monthly_num_I[x],\n",
    "          'subthink':monthly_num_T[x]}\n",
    "    data_form={\n",
    "        'model':'visualization_data_store.MonthlySitewiseWrites',\n",
    "        'fields':data\n",
    "    }\n",
    "    MonthlyNum_data.append(data_form)\n",
    "    month+=1\n",
    "    if month>12:\n",
    "        month=1\n",
    "        year+=1\n",
    "    "
   ]
  },
  {
   "cell_type": "code",
   "execution_count": 58,
   "id": "6ee13cdc",
   "metadata": {},
   "outputs": [],
   "source": [
    "with open(\"./data/MonthlyNum_data.json\", \"w\", encoding='utf-8') as f:\n",
    "    json.dump(MonthlyNum_data, f, ensure_ascii=False, indent=4)"
   ]
  }
 ],
 "metadata": {
  "kernelspec": {
   "display_name": "Python 3 (ipykernel)",
   "language": "python",
   "name": "python3"
  },
  "language_info": {
   "codemirror_mode": {
    "name": "ipython",
    "version": 3
   },
   "file_extension": ".py",
   "mimetype": "text/x-python",
   "name": "python",
   "nbconvert_exporter": "python",
   "pygments_lexer": "ipython3",
   "version": "3.9.13"
  }
 },
 "nbformat": 4,
 "nbformat_minor": 5
}
